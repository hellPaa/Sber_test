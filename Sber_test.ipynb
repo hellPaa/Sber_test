{
  "nbformat": 4,
  "nbformat_minor": 0,
  "metadata": {
    "colab": {
      "provenance": [],
      "authorship_tag": "ABX9TyPlifHwRKg7RuTJBTXf9eX+",
      "include_colab_link": true
    },
    "kernelspec": {
      "name": "python3",
      "display_name": "Python 3"
    },
    "language_info": {
      "name": "python"
    }
  },
  "cells": [
    {
      "cell_type": "markdown",
      "metadata": {
        "id": "view-in-github",
        "colab_type": "text"
      },
      "source": [
        "<a href=\"https://colab.research.google.com/github/hellPaa/Sber_test/blob/main/Sber_test.ipynb\" target=\"_parent\"><img src=\"https://colab.research.google.com/assets/colab-badge.svg\" alt=\"Open In Colab\"/></a>"
      ]
    },
    {
      "cell_type": "markdown",
      "source": [
        "Тестовые задания, Павлова Е.А., на вакансию IT-аудитор."
      ],
      "metadata": {
        "id": "tj1sE5hWaXgv"
      }
    },
    {
      "cell_type": "code",
      "execution_count": 9,
      "metadata": {
        "colab": {
          "base_uri": "https://localhost:8080/"
        },
        "id": "JTmg0xBsaU6t",
        "outputId": "cef550e1-6de1-49a0-a47d-8cfdffa01e78"
      },
      "outputs": [
        {
          "output_type": "stream",
          "name": "stdout",
          "text": [
            "17\\234\n",
            "\n",
            "0017\\00234\n"
          ]
        }
      ],
      "source": [
        "#первое задание\n",
        "\n",
        "import re\n",
        "\n",
        "def convert_special_numbers(text):\n",
        "  good_numbers = []\n",
        "  pattern = r'\\d{2,4}\\\\\\d{2,5}'\n",
        "  special_numbers = re.findall(pattern, text)\n",
        "\n",
        "\n",
        "  for special_number in special_numbers:\n",
        "      parts = special_number.split('\\\\')\n",
        "      good_number = '{:04d}\\\\{:05d}'.format(int(parts[0]), int(parts[1]))\n",
        "      good_numbers.append(good_number)\n",
        "\n",
        "\n",
        "  num_per_line = len(good_numbers) // 2\n",
        "  lines = ['\\n'.join(good_numbers[:num_per_line]), '\\n'.join(good_numbers[num_per_line:])]\n",
        "\n",
        "  return '\\n'.join(lines)\n",
        "\n",
        "input_text = input()\n",
        "result = convert_special_numbers(input_text)\n",
        "print(result)\n"
      ]
    },
    {
      "cell_type": "code",
      "source": [
        "#второе задание\n",
        "\n",
        "def min_dist(n, k, L):\n",
        "  for i in range(k):\n",
        "    max_el = max(L)\n",
        "    for elem in range(len(L)):\n",
        "      if len(L) > n+k-1:\n",
        "        break\n",
        "      if L[elem] == max_el:\n",
        "        L[elem] = max_el // 2\n",
        "        l_fin = L[0:elem]\n",
        "        l_fin.append(L[elem])\n",
        "        lL = l_fin + L[elem: len(L)]\n",
        "        L = lL\n",
        "  return L\n",
        "\n",
        "n, k = map(int, input().split())\n",
        "L = list(map(int, input().split()))\n",
        "print(min_dist(n, k, L))"
      ],
      "metadata": {
        "id": "vc1HTZd3arh1"
      },
      "execution_count": null,
      "outputs": []
    },
    {
      "cell_type": "code",
      "source": [
        "#третье задание\n",
        "\n",
        "def max_concatenated_number(strings):\n",
        "    strings.sort(reverse=True, key=lambda x: x + x)\n",
        "\n",
        "    max_number = int(''.join(strings))\n",
        "    return max_number\n",
        "\n",
        "input_strings = []\n",
        "while True:\n",
        "    user_input = input(\"Введите строку (или нажмите Enter для завершения ввода): \")\n",
        "    if user_input == \"\":\n",
        "        break\n",
        "    input_strings.append(user_input)\n",
        "\n",
        "result = max_concatenated_number(input_strings)\n",
        "print(result)\n"
      ],
      "metadata": {
        "colab": {
          "base_uri": "https://localhost:8080/"
        },
        "id": "PZK4rHztaqCQ",
        "outputId": "d51004bc-aea9-43b6-84d1-66b6fdea54be"
      },
      "execution_count": 10,
      "outputs": [
        {
          "output_type": "stream",
          "name": "stdout",
          "text": [
            "Введите строку (или нажмите Enter для завершения ввода): 11\n",
            "Введите строку (или нажмите Enter для завершения ввода): 234\n",
            "Введите строку (или нажмите Enter для завершения ввода): 005\n",
            "Введите строку (или нажмите Enter для завершения ввода): 89\n",
            "Введите строку (или нажмите Enter для завершения ввода): \n",
            "8923411005\n"
          ]
        }
      ]
    },
    {
      "cell_type": "markdown",
      "source": [
        "sql\n",
        "\n",
        "1) SELECT current_date + INTERVAL (number * 7 + RAND() * 2) DAY AS check_date\n",
        "FROM (SELECT 0 AS number UNION SELECT 1 UNION SELECT 2 UNION SELECT 3 UNION SELECT 4 UNION SELECT 5 UNION SELECT 6 UNION SELECT 7 UNION SELECT 8 UNION SELECT 9) AS t\n",
        "WHERE current_date <= current_date + INTERVAL number * 7 DAY\n",
        "LIMIT 100;\n",
        "\n",
        "\n",
        "2) SELECT employee.id, employee.name, COUNT() AS sales_c, RANK() OVER (ORDER BY COUNT() DESC) AS sales_rank_c, SUM(sales.price) AS sales_s, RANK() OVER (ORDER BY SUM(sales.price) DESC) AS sales_rank_s\n",
        "FROM employee JOIN sales ON employee.id = sales.employee_id GROUP BY employee.id;\n",
        "\n",
        "\n",
        "3) WITH account_balances AS (\n",
        "    SELECT  \n",
        "        from,\n",
        "        SUM(amount) balance\n",
        "    FROM transfers\n",
        "    GROUP BY from\n",
        "),\n",
        "account_changes AS (\n",
        "    SELECT\n",
        "        ab.from,\n",
        "        ab.balance,\n",
        "        t.tdate,\n",
        "        LEAD(ab.balance) OVER (PARTITION BY ab.from ORDER BY t.tdate) new_balance\n",
        "    FROM account_balances ab\n",
        "    JOIN transfers t ON ab.from = t.from\n",
        ")\n",
        "SELECT\n",
        "    ac.from acc,\n",
        "    ac.tdate dt_from,\n",
        "    coalesce(lc.tdate, '2030-01-01') dt_to,\n",
        "    ac.balance balance\n",
        "FROM account_changes ac\n",
        "LEFT JOIN account_changes lc ON ac.from = lc.from AND ac.new_balance = lc."
      ],
      "metadata": {
        "id": "KJoTpe4tbZ-P"
      }
    }
  ]
}